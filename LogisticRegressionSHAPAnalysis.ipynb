{
 "cells": [
  {
   "cell_type": "code",
   "id": "initial_id",
   "metadata": {
    "collapsed": true,
    "ExecuteTime": {
     "end_time": "2025-08-04T10:02:52.638610Z",
     "start_time": "2025-08-04T10:02:52.635996Z"
    }
   },
   "source": [
    "import joblib\n",
    "import shap\n",
    "import pandas as pd\n",
    "from sklearn.preprocessing import LabelEncoder\n",
    "le = LabelEncoder()"
   ],
   "outputs": [],
   "execution_count": 14
  },
  {
   "metadata": {
    "ExecuteTime": {
     "end_time": "2025-08-04T10:02:59.521424Z",
     "start_time": "2025-08-04T10:02:59.513797Z"
    }
   },
   "cell_type": "code",
   "outputs": [],
   "execution_count": 17,
   "source": [
    "model = joblib.load('logistic_model.pkl')\n",
    "X_test = pd.read_csv('df_with_emotions.csv')"
   ],
   "id": "aef17bc631377de3"
  },
  {
   "metadata": {
    "ExecuteTime": {
     "end_time": "2025-08-04T10:05:05.701695Z",
     "start_time": "2025-08-04T10:05:05.696954Z"
    }
   },
   "cell_type": "code",
   "source": "print(X_test.dtypes)",
   "id": "93d243762221925e",
   "outputs": [
    {
     "name": "stdout",
     "output_type": "stream",
     "text": [
      "Student_ID                int64\n",
      "Age                     float64\n",
      "Gender                   object\n",
      "GPA                     float64\n",
      "Stress_Level            float64\n",
      "Anxiety_Score           float64\n",
      "Depression_Score        float64\n",
      "Daily_Reflections        object\n",
      "Sleep_Hours             float64\n",
      "Steps_Per_Day           float64\n",
      "Mental_Health_Status      int64\n",
      "fear                    float64\n",
      "anger                   float64\n",
      "anticipation            float64\n",
      "trust                   float64\n",
      "surprise                float64\n",
      "sadness                 float64\n",
      "joy                     float64\n",
      "disgust                 float64\n",
      "negative                float64\n",
      "positive                float64\n",
      "dtype: object\n"
     ]
    }
   ],
   "execution_count": 19
  },
  {
   "metadata": {
    "ExecuteTime": {
     "end_time": "2025-08-04T10:03:02.623422Z",
     "start_time": "2025-08-04T10:03:02.549045Z"
    }
   },
   "cell_type": "code",
   "source": [
    "explainer = shap.LinearExplainer(model, X_test)\n",
    "shap_values = explainer.shap_values(X_test)\n",
    "shap.summary_plot(shap_values, X_test)"
   ],
   "id": "c90230922d953fa1",
   "outputs": [
    {
     "ename": "TypeError",
     "evalue": "unsupported operand type(s) for /: 'str' and 'int'",
     "output_type": "error",
     "traceback": [
      "\u001B[31m---------------------------------------------------------------------------\u001B[39m",
      "\u001B[31mTypeError\u001B[39m                                 Traceback (most recent call last)",
      "\u001B[36mCell\u001B[39m\u001B[36m \u001B[39m\u001B[32mIn[18]\u001B[39m\u001B[32m, line 1\u001B[39m\n\u001B[32m----> \u001B[39m\u001B[32m1\u001B[39m explainer = \u001B[43mshap\u001B[49m\u001B[43m.\u001B[49m\u001B[43mLinearExplainer\u001B[49m\u001B[43m(\u001B[49m\u001B[43mmodel\u001B[49m\u001B[43m,\u001B[49m\u001B[43m \u001B[49m\u001B[43mX_test\u001B[49m\u001B[43m)\u001B[49m\n\u001B[32m      2\u001B[39m shap_values = explainer.shap_values(X_test)\n\u001B[32m      3\u001B[39m shap.summary_plot(shap_values, X_test)\n",
      "\u001B[36mFile \u001B[39m\u001B[32m~/PycharmProjects/AI4ALL-Ignite-SU25/.venv/lib/python3.13/site-packages/shap/explainers/_linear.py:176\u001B[39m, in \u001B[36mLinearExplainer.__init__\u001B[39m\u001B[34m(self, model, masker, link, nsamples, feature_perturbation, **kwargs)\u001B[39m\n\u001B[32m    172\u001B[39m         \u001B[38;5;28;01mraise\u001B[39;00m \u001B[38;5;167;01mNotImplementedError\u001B[39;00m(\n\u001B[32m    173\u001B[39m             \u001B[33m\"\u001B[39m\u001B[33mOnly feature_perturbation = \u001B[39m\u001B[33m'\u001B[39m\u001B[33minterventional\u001B[39m\u001B[33m'\u001B[39m\u001B[33m is supported for sparse data\u001B[39m\u001B[33m\"\u001B[39m\n\u001B[32m    174\u001B[39m         )\n\u001B[32m    175\u001B[39m \u001B[38;5;28;01melse\u001B[39;00m:\n\u001B[32m--> \u001B[39m\u001B[32m176\u001B[39m     \u001B[38;5;28mself\u001B[39m.mean = np.array(\u001B[43mnp\u001B[49m\u001B[43m.\u001B[49m\u001B[43mmean\u001B[49m\u001B[43m(\u001B[49m\u001B[43mdata\u001B[49m\u001B[43m,\u001B[49m\u001B[43m \u001B[49m\u001B[32;43m0\u001B[39;49m\u001B[43m)\u001B[49m).flatten()  \u001B[38;5;66;03m# assumes it is an array\u001B[39;00m\n\u001B[32m    177\u001B[39m     \u001B[38;5;28;01mif\u001B[39;00m \u001B[38;5;28mself\u001B[39m.feature_perturbation == \u001B[33m\"\u001B[39m\u001B[33mcorrelation_dependent\u001B[39m\u001B[33m\"\u001B[39m:\n\u001B[32m    178\u001B[39m         \u001B[38;5;28mself\u001B[39m.cov = np.cov(data, rowvar=\u001B[38;5;28;01mFalse\u001B[39;00m)\n",
      "\u001B[36mFile \u001B[39m\u001B[32m~/PycharmProjects/AI4ALL-Ignite-SU25/.venv/lib/python3.13/site-packages/numpy/_core/fromnumeric.py:3860\u001B[39m, in \u001B[36mmean\u001B[39m\u001B[34m(a, axis, dtype, out, keepdims, where)\u001B[39m\n\u001B[32m   3857\u001B[39m     \u001B[38;5;28;01melse\u001B[39;00m:\n\u001B[32m   3858\u001B[39m         \u001B[38;5;28;01mreturn\u001B[39;00m mean(axis=axis, dtype=dtype, out=out, **kwargs)\n\u001B[32m-> \u001B[39m\u001B[32m3860\u001B[39m \u001B[38;5;28;01mreturn\u001B[39;00m \u001B[43m_methods\u001B[49m\u001B[43m.\u001B[49m\u001B[43m_mean\u001B[49m\u001B[43m(\u001B[49m\u001B[43ma\u001B[49m\u001B[43m,\u001B[49m\u001B[43m \u001B[49m\u001B[43maxis\u001B[49m\u001B[43m=\u001B[49m\u001B[43maxis\u001B[49m\u001B[43m,\u001B[49m\u001B[43m \u001B[49m\u001B[43mdtype\u001B[49m\u001B[43m=\u001B[49m\u001B[43mdtype\u001B[49m\u001B[43m,\u001B[49m\n\u001B[32m   3861\u001B[39m \u001B[43m                      \u001B[49m\u001B[43mout\u001B[49m\u001B[43m=\u001B[49m\u001B[43mout\u001B[49m\u001B[43m,\u001B[49m\u001B[43m \u001B[49m\u001B[43m*\u001B[49m\u001B[43m*\u001B[49m\u001B[43mkwargs\u001B[49m\u001B[43m)\u001B[49m\n",
      "\u001B[36mFile \u001B[39m\u001B[32m~/PycharmProjects/AI4ALL-Ignite-SU25/.venv/lib/python3.13/site-packages/numpy/_core/_methods.py:137\u001B[39m, in \u001B[36m_mean\u001B[39m\u001B[34m(a, axis, dtype, out, keepdims, where)\u001B[39m\n\u001B[32m    135\u001B[39m ret = umr_sum(arr, axis, dtype, out, keepdims, where=where)\n\u001B[32m    136\u001B[39m \u001B[38;5;28;01mif\u001B[39;00m \u001B[38;5;28misinstance\u001B[39m(ret, mu.ndarray):\n\u001B[32m--> \u001B[39m\u001B[32m137\u001B[39m     ret = \u001B[43mum\u001B[49m\u001B[43m.\u001B[49m\u001B[43mtrue_divide\u001B[49m\u001B[43m(\u001B[49m\n\u001B[32m    138\u001B[39m \u001B[43m            \u001B[49m\u001B[43mret\u001B[49m\u001B[43m,\u001B[49m\u001B[43m \u001B[49m\u001B[43mrcount\u001B[49m\u001B[43m,\u001B[49m\u001B[43m \u001B[49m\u001B[43mout\u001B[49m\u001B[43m=\u001B[49m\u001B[43mret\u001B[49m\u001B[43m,\u001B[49m\u001B[43m \u001B[49m\u001B[43mcasting\u001B[49m\u001B[43m=\u001B[49m\u001B[33;43m'\u001B[39;49m\u001B[33;43munsafe\u001B[39;49m\u001B[33;43m'\u001B[39;49m\u001B[43m,\u001B[49m\u001B[43m \u001B[49m\u001B[43msubok\u001B[49m\u001B[43m=\u001B[49m\u001B[38;5;28;43;01mFalse\u001B[39;49;00m\u001B[43m)\u001B[49m\n\u001B[32m    139\u001B[39m     \u001B[38;5;28;01mif\u001B[39;00m is_float16_result \u001B[38;5;129;01mand\u001B[39;00m out \u001B[38;5;129;01mis\u001B[39;00m \u001B[38;5;28;01mNone\u001B[39;00m:\n\u001B[32m    140\u001B[39m         ret = arr.dtype.type(ret)\n",
      "\u001B[31mTypeError\u001B[39m: unsupported operand type(s) for /: 'str' and 'int'"
     ]
    }
   ],
   "execution_count": 18
  }
 ],
 "metadata": {
  "kernelspec": {
   "display_name": "Python 3",
   "language": "python",
   "name": "python3"
  },
  "language_info": {
   "codemirror_mode": {
    "name": "ipython",
    "version": 2
   },
   "file_extension": ".py",
   "mimetype": "text/x-python",
   "name": "python",
   "nbconvert_exporter": "python",
   "pygments_lexer": "ipython2",
   "version": "2.7.6"
  }
 },
 "nbformat": 4,
 "nbformat_minor": 5
}
